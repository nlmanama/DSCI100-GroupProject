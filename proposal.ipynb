{
 "cells": [
  {
   "cell_type": "markdown",
   "id": "455681a4-06ad-48dd-a349-ea9f52121ec0",
   "metadata": {},
   "source": [
    "# Proposal"
   ]
  },
  {
   "cell_type": "code",
   "execution_count": null,
   "id": "6b3a0f0f-693a-4ef3-807d-507e259c0d28",
   "metadata": {},
   "outputs": [],
   "source": []
  }
 ],
 "metadata": {
  "kernelspec": {
   "display_name": "R",
   "language": "R",
   "name": "ir"
  },
  "language_info": {
   "codemirror_mode": "r",
   "file_extension": ".r",
   "mimetype": "text/x-r-source",
   "name": "R",
   "pygments_lexer": "r",
   "version": "4.2.2"
  }
 },
 "nbformat": 4,
 "nbformat_minor": 5
}
