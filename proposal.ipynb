{
 "cells": [
  {
   "cell_type": "markdown",
   "id": "455681a4-06ad-48dd-a349-ea9f52121ec0",
   "metadata": {},
   "source": [
    "# Proposal"
   ]
  },
  {
   "cell_type": "markdown",
   "id": "775de453-72cf-431a-8a8a-1f07ad4b3e38",
   "metadata": {},
   "source": [
    "### Answer Questions Here\n",
    "\n",
    "blah blah blah"
   ]
  },
  {
   "cell_type": "markdown",
   "id": "868acf2c-e484-484d-a384-5a2babeecaf9",
   "metadata": {},
   "source": [
    "### Glass Dataset\n",
    "\n",
    "**Type of Glass** \\\n",
    "1 : Building Windows (float-processed) \\\n",
    "2 : Building Windows (non-float-processed) \\\n",
    "3 : Vehicle Windows (float-processed) \\\n",
    "4 : Vehicle Windows (non-float-processed) *none in this dataset* \\\n",
    "5 : Containers \\\n",
    "6 : Tableware \\\n",
    "7 : Headlamps \n",
    "\n",
    "Source: German,B.. (1987). Glass Identification. UCI Machine Learning Repository. https://doi.org/10.24432/C5WW2P."
   ]
  },
  {
   "cell_type": "code",
   "execution_count": 5,
   "id": "eb905ab0-a467-49e4-9db3-b7abe70186ee",
   "metadata": {
    "tags": []
   },
   "outputs": [
    {
     "name": "stderr",
     "output_type": "stream",
     "text": [
      "\n",
      "Attaching package: ‘rvest’\n",
      "\n",
      "\n",
      "The following object is masked from ‘package:readr’:\n",
      "\n",
      "    guess_encoding\n",
      "\n",
      "\n"
     ]
    }
   ],
   "source": [
    "library(tidyverse)\n",
    "library(repr)\n",
    "library(tidymodels)\n",
    "library(rvest)\n",
    "options(repr.matrix.max.rows = 6)"
   ]
  },
  {
   "cell_type": "code",
   "execution_count": 21,
   "id": "718e48b7-a998-4a0f-bab3-9fec1729a3ae",
   "metadata": {
    "tags": []
   },
   "outputs": [
    {
     "data": {
      "text/html": [
       "<table class=\"dataframe\">\n",
       "<caption>A data.frame: 214 × 11</caption>\n",
       "<thead>\n",
       "\t<tr><th scope=col>ID</th><th scope=col>RI</th><th scope=col>Na</th><th scope=col>Mg</th><th scope=col>Al</th><th scope=col>Si</th><th scope=col>K</th><th scope=col>Ca</th><th scope=col>Ba</th><th scope=col>Fe</th><th scope=col>Type</th></tr>\n",
       "\t<tr><th scope=col>&lt;int&gt;</th><th scope=col>&lt;dbl&gt;</th><th scope=col>&lt;dbl&gt;</th><th scope=col>&lt;dbl&gt;</th><th scope=col>&lt;dbl&gt;</th><th scope=col>&lt;dbl&gt;</th><th scope=col>&lt;dbl&gt;</th><th scope=col>&lt;dbl&gt;</th><th scope=col>&lt;dbl&gt;</th><th scope=col>&lt;dbl&gt;</th><th scope=col>&lt;int&gt;</th></tr>\n",
       "</thead>\n",
       "<tbody>\n",
       "\t<tr><td>1</td><td>1.52101</td><td>13.64</td><td>4.49</td><td>1.10</td><td>71.78</td><td>0.06</td><td>8.75</td><td>0</td><td>0</td><td>1</td></tr>\n",
       "\t<tr><td>2</td><td>1.51761</td><td>13.89</td><td>3.60</td><td>1.36</td><td>72.73</td><td>0.48</td><td>7.83</td><td>0</td><td>0</td><td>1</td></tr>\n",
       "\t<tr><td>3</td><td>1.51618</td><td>13.53</td><td>3.55</td><td>1.54</td><td>72.99</td><td>0.39</td><td>7.78</td><td>0</td><td>0</td><td>1</td></tr>\n",
       "\t<tr><td>⋮</td><td>⋮</td><td>⋮</td><td>⋮</td><td>⋮</td><td>⋮</td><td>⋮</td><td>⋮</td><td>⋮</td><td>⋮</td><td>⋮</td></tr>\n",
       "\t<tr><td>212</td><td>1.52065</td><td>14.36</td><td>0</td><td>2.02</td><td>73.42</td><td>0</td><td>8.44</td><td>1.64</td><td>0</td><td>7</td></tr>\n",
       "\t<tr><td>213</td><td>1.51651</td><td>14.38</td><td>0</td><td>1.94</td><td>73.61</td><td>0</td><td>8.48</td><td>1.57</td><td>0</td><td>7</td></tr>\n",
       "\t<tr><td>214</td><td>1.51711</td><td>14.23</td><td>0</td><td>2.08</td><td>73.36</td><td>0</td><td>8.62</td><td>1.67</td><td>0</td><td>7</td></tr>\n",
       "</tbody>\n",
       "</table>\n"
      ],
      "text/latex": [
       "A data.frame: 214 × 11\n",
       "\\begin{tabular}{lllllllllll}\n",
       " ID & RI & Na & Mg & Al & Si & K & Ca & Ba & Fe & Type\\\\\n",
       " <int> & <dbl> & <dbl> & <dbl> & <dbl> & <dbl> & <dbl> & <dbl> & <dbl> & <dbl> & <int>\\\\\n",
       "\\hline\n",
       "\t 1 & 1.52101 & 13.64 & 4.49 & 1.10 & 71.78 & 0.06 & 8.75 & 0 & 0 & 1\\\\\n",
       "\t 2 & 1.51761 & 13.89 & 3.60 & 1.36 & 72.73 & 0.48 & 7.83 & 0 & 0 & 1\\\\\n",
       "\t 3 & 1.51618 & 13.53 & 3.55 & 1.54 & 72.99 & 0.39 & 7.78 & 0 & 0 & 1\\\\\n",
       "\t ⋮ & ⋮ & ⋮ & ⋮ & ⋮ & ⋮ & ⋮ & ⋮ & ⋮ & ⋮ & ⋮\\\\\n",
       "\t 212 & 1.52065 & 14.36 & 0 & 2.02 & 73.42 & 0 & 8.44 & 1.64 & 0 & 7\\\\\n",
       "\t 213 & 1.51651 & 14.38 & 0 & 1.94 & 73.61 & 0 & 8.48 & 1.57 & 0 & 7\\\\\n",
       "\t 214 & 1.51711 & 14.23 & 0 & 2.08 & 73.36 & 0 & 8.62 & 1.67 & 0 & 7\\\\\n",
       "\\end{tabular}\n"
      ],
      "text/markdown": [
       "\n",
       "A data.frame: 214 × 11\n",
       "\n",
       "| ID &lt;int&gt; | RI &lt;dbl&gt; | Na &lt;dbl&gt; | Mg &lt;dbl&gt; | Al &lt;dbl&gt; | Si &lt;dbl&gt; | K &lt;dbl&gt; | Ca &lt;dbl&gt; | Ba &lt;dbl&gt; | Fe &lt;dbl&gt; | Type &lt;int&gt; |\n",
       "|---|---|---|---|---|---|---|---|---|---|---|\n",
       "| 1 | 1.52101 | 13.64 | 4.49 | 1.10 | 71.78 | 0.06 | 8.75 | 0 | 0 | 1 |\n",
       "| 2 | 1.51761 | 13.89 | 3.60 | 1.36 | 72.73 | 0.48 | 7.83 | 0 | 0 | 1 |\n",
       "| 3 | 1.51618 | 13.53 | 3.55 | 1.54 | 72.99 | 0.39 | 7.78 | 0 | 0 | 1 |\n",
       "| ⋮ | ⋮ | ⋮ | ⋮ | ⋮ | ⋮ | ⋮ | ⋮ | ⋮ | ⋮ | ⋮ |\n",
       "| 212 | 1.52065 | 14.36 | 0 | 2.02 | 73.42 | 0 | 8.44 | 1.64 | 0 | 7 |\n",
       "| 213 | 1.51651 | 14.38 | 0 | 1.94 | 73.61 | 0 | 8.48 | 1.57 | 0 | 7 |\n",
       "| 214 | 1.51711 | 14.23 | 0 | 2.08 | 73.36 | 0 | 8.62 | 1.67 | 0 | 7 |\n",
       "\n"
      ],
      "text/plain": [
       "    ID  RI      Na    Mg   Al   Si    K    Ca   Ba   Fe Type\n",
       "1   1   1.52101 13.64 4.49 1.10 71.78 0.06 8.75 0    0  1   \n",
       "2   2   1.51761 13.89 3.60 1.36 72.73 0.48 7.83 0    0  1   \n",
       "3   3   1.51618 13.53 3.55 1.54 72.99 0.39 7.78 0    0  1   \n",
       "⋮   ⋮   ⋮       ⋮     ⋮    ⋮    ⋮     ⋮    ⋮    ⋮    ⋮  ⋮   \n",
       "212 212 1.52065 14.36 0    2.02 73.42 0    8.44 1.64 0  7   \n",
       "213 213 1.51651 14.38 0    1.94 73.61 0    8.48 1.57 0  7   \n",
       "214 214 1.51711 14.23 0    2.08 73.36 0    8.62 1.67 0  7   "
      ]
     },
     "metadata": {},
     "output_type": "display_data"
    }
   ],
   "source": [
    "names <- c(\"ID\", \"RI\", \"Na\", \"Mg\", \"Al\", \"Si\", \"K\", \"Ca\", \"Ba\", \"Fe\", \"Type\")\n",
    "glass <- read.csv(url(\"http://archive.ics.uci.edu/ml/machine-learning-databases/glass/glass.data\"), header=FALSE)\n",
    "colnames(glass) = names\n",
    "glass"
   ]
  },
  {
   "cell_type": "code",
   "execution_count": null,
   "id": "8c8c2ae3-7ff2-4c2a-9111-fa2b5604b572",
   "metadata": {},
   "outputs": [],
   "source": []
  }
 ],
 "metadata": {
  "kernelspec": {
   "display_name": "R",
   "language": "R",
   "name": "ir"
  },
  "language_info": {
   "codemirror_mode": "r",
   "file_extension": ".r",
   "mimetype": "text/x-r-source",
   "name": "R",
   "pygments_lexer": "r",
   "version": "4.2.2"
  }
 },
 "nbformat": 4,
 "nbformat_minor": 5
}
