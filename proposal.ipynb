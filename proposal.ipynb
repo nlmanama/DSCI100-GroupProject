{
 "cells": [
  {
   "cell_type": "markdown",
   "id": "455681a4-06ad-48dd-a349-ea9f52121ec0",
   "metadata": {},
   "source": [
    "# Proposal"
   ]
  },
  {
   "cell_type": "markdown",
   "id": "775de453-72cf-431a-8a8a-1f07ad4b3e38",
   "metadata": {},
   "source": [
    "### Answer Questions Here\n",
    "\n",
    "blah blah blah"
   ]
  },
  {
   "cell_type": "markdown",
   "id": "868acf2c-e484-484d-a384-5a2babeecaf9",
   "metadata": {},
   "source": [
    "### Glass Dataset\n",
    "\n",
    "**Type of Glass** \\\n",
    "1 : Building Windows (float-processed) \\\n",
    "2 : Building Windows (non-float-processed) \\\n",
    "3 : Vehicle Windows (float-processed) \\\n",
    "4 : Vehicle Windows (non-float-processed) *none in this dataset* \\\n",
    "5 : Containers \\\n",
    "6 : Tableware \\\n",
    "7 : Headlamps \n",
    "\n",
    "Source: https://www.kaggle.com/datasets/uciml/glass?select=glass.csv"
   ]
  },
  {
   "cell_type": "code",
   "execution_count": null,
   "id": "eb905ab0-a467-49e4-9db3-b7abe70186ee",
   "metadata": {
    "tags": []
   },
   "outputs": [],
   "source": [
    "library(tidyverse)\n",
    "library(repr)\n",
    "library(tidymodels)\n",
    "options(repr.matrix.max.rows = 6)"
   ]
  },
  {
   "cell_type": "code",
   "execution_count": null,
   "id": "718e48b7-a998-4a0f-bab3-9fec1729a3ae",
   "metadata": {
    "tags": []
   },
   "outputs": [],
   "source": [
    "glass <- read_csv(\"glass.csv\")\n",
    "glass"
   ]
  },
  {
   "cell_type": "code",
   "execution_count": null,
   "id": "11df34ee-7cf6-46e2-bd52-d3326a04458a",
   "metadata": {},
   "outputs": [],
   "source": []
  }
 ],
 "metadata": {
  "kernelspec": {
   "display_name": "R",
   "language": "R",
   "name": "ir"
  },
  "language_info": {
   "codemirror_mode": "r",
   "file_extension": ".r",
   "mimetype": "text/x-r-source",
   "name": "R",
   "pygments_lexer": "r",
   "version": "4.2.2"
  }
 },
 "nbformat": 4,
 "nbformat_minor": 5
}
