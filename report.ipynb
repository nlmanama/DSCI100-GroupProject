{
 "cells": [
  {
   "cell_type": "markdown",
   "id": "99439141-51e8-445e-b9d1-7af1cf1f656c",
   "metadata": {},
   "source": [
    "### Report"
   ]
  },
  {
   "cell_type": "markdown",
   "id": "48bc263f-2140-4879-b43e-56c510d58d51",
   "metadata": {},
   "source": [
    "## Introduction\n",
    "\n",
    "bleh"
   ]
  },
  {
   "cell_type": "markdown",
   "id": "293aa342-6199-46fd-b4ba-5185d03f0cca",
   "metadata": {},
   "source": [
    "## Method"
   ]
  },
  {
   "cell_type": "code",
   "execution_count": 1,
   "id": "23d4ed93-dce8-4d43-9023-c6f73198dd39",
   "metadata": {
    "tags": []
   },
   "outputs": [],
   "source": [
    "#code or something"
   ]
  },
  {
   "cell_type": "markdown",
   "id": "54c1f07e-8080-49b3-b1d8-39ddb82b14ab",
   "metadata": {},
   "source": [
    "## Results"
   ]
  },
  {
   "cell_type": "code",
   "execution_count": 2,
   "id": "ce9b7a5c-098d-4b09-81e9-cbca14490f53",
   "metadata": {
    "tags": []
   },
   "outputs": [],
   "source": [
    "#more code or something"
   ]
  },
  {
   "cell_type": "markdown",
   "id": "a43abdc4-4ced-49cc-8c36-8e5121d06b82",
   "metadata": {},
   "source": [
    "## Discussion\n",
    "\n",
    "\n",
    "blah"
   ]
  },
  {
   "cell_type": "markdown",
   "id": "65db3d7e-182c-411f-b9eb-3f9741794d1a",
   "metadata": {},
   "source": [
    "## References\n",
    "\n",
    "reference"
   ]
  },
  {
   "cell_type": "code",
   "execution_count": null,
   "id": "c812ae3b-6b8d-420c-b777-de12aafdfe6d",
   "metadata": {},
   "outputs": [],
   "source": []
  }
 ],
 "metadata": {
  "kernelspec": {
   "display_name": "R",
   "language": "R",
   "name": "ir"
  },
  "language_info": {
   "codemirror_mode": "r",
   "file_extension": ".r",
   "mimetype": "text/x-r-source",
   "name": "R",
   "pygments_lexer": "r",
   "version": "4.2.2"
  }
 },
 "nbformat": 4,
 "nbformat_minor": 5
}
