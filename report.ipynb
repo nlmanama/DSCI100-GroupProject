{
 "cells": [
  {
   "cell_type": "markdown",
   "id": "99439141-51e8-445e-b9d1-7af1cf1f656c",
   "metadata": {},
   "source": [
    "### Report"
   ]
  },
  {
   "cell_type": "markdown",
   "id": "48bc263f-2140-4879-b43e-56c510d58d51",
   "metadata": {},
   "source": [
    "## Introduction\n",
    "\n",
    "Revised Introduction:\n",
    "Understanding the various types of glass is crucial for numerous applications, from architectural design to container manufacturing. Each glass type possesses unique characteristics based on its elemental composition and refractive index. This study will focus on identifying these glass types using a KNN model, considering different elements and variations in refractive index. Specifically, we explore float-processed glass, known for its economical production in flat glass manufacturing; container glass, used in various bottles and jars; tableware, which includes glass items for dining; and headlamp glass, vital in automotive safety.\n",
    "\n",
    "## Types of Glass:\n",
    "\n",
    "Float-Processed Glass: Developed in the 1950s, it's pivotal in creating flat glass for vehicles and buildings. Key materials include silica, lime, soda, and cullet, heated to form molten glass, then floated on molten tin to achieve flatness​​.\n",
    "Container Glass: Encompasses glass bottles and jars for beverages, pharmaceuticals, cosmetics, and foods​​.\n",
    "Tableware: This category includes glassware for dining purposes, often made from glass, steel, or copper​​.\n",
    "Headlamp Glass: Essential in vehicles, headlamps provide illumination for safe driving and are distinct in their design and material requirements​​.\n",
    "## Preliminary Data Analysis\n",
    "## 1. Data Visualization Insights:\n",
    "\n",
    "Reflective Index vs. Silicon Level: Understanding this relationship can shed light on the glass's optical properties. However, clarity on its significance in the prediction model is needed.\n",
    "Material Composition in Glass Types: Initial observations suggest uniform silicon levels across glass types, questioning its predictive value.\n",
    "Glass Mean Table and Plot: Provides valuable insights into elemental composition variations across glass types. In-depth analysis under each plot will help in understanding its relevance to the study.\n",
    "## 2. Dataset Description:\n",
    "The dataset comprises the refractive index and eight elemental compositions representing various glass types. It's essential to analyze these elements to identify patterns and correlations pertinent to different glass categories.\n",
    "\n",
    "## Methodology\n",
    "## 1. Variable Selection:\n",
    "\n",
    "The dataset comprises several continuous features: refractive index (RI), and weight percent of various oxides like Sodium (Na), Magnesium (Mg), Aluminum (Al), Silicon (Si), Potassium (K), Calcium (Ca), Barium (Ba), and Iron (Fe). Each of these elements contributes distinctively to the glass properties and thus, their inclusion is critical for accurate classification. The 'Id_number' feature, which is merely an identifier with no intrinsic value to the glass properties, is excluded from the analysis. The selection of variables is based on their chemical significance in glass composition. Elements like Na, Mg, and Si are known to affect the physical and chemical properties of glass, making them key variables for prediction. The refractive index (RI) is a crucial optical property and can indicate glass type. \n",
    "Analysis of Variance: The variance of each variable across different glass types should be examined. Variables with higher variance are more likely to contribute to effective classification.\n",
    "Unique Distributions: Investigating the distribution of these elements across different glass types can reveal unique patterns, aiding in accurate classification.\n",
    "\n",
    "## 2. KNN Model Development:\n",
    "\n",
    "Detailed KNN Explanation: Expand on the KNN methodology, including parameter selection, distance metrics, and the rationale behind choosing KNN for this study.\n",
    "Cross-validation: Elaborate on the cross-validation process to optimize model parameters and prevent overfitting.\n",
    "Research Question\n",
    "Revised Research Question:\n",
    "How can we accurately predict the type of glass in an unknown sample using a KNN model trained on a dataset comprising refractive index and elemental compositions?\n",
    "\n",
    "\n",
    "**We want to answer the question of:**\n",
    "To predict the type of glass of an unknown glass sample with KNN model trained with our dataset.\n",
    "\n",
    "**Identify and describe the dataset that will be used to answer the question:**\n",
    "The dataset is composed of the refractive index as well as eight different elements to represent the type of glass the combination of those elements and refractive index represent. "
   ]
  },
  {
   "cell_type": "markdown",
   "id": "b90ed33c-3a6e-4722-9396-37779b5b3053",
   "metadata": {
    "tags": []
   },
   "source": [
    "### Glass Dataset\n",
    "\n",
    "**Type of Glass** \\\n",
    "1 : Building Windows (float-processed) \\\n",
    "2 : Building Windows (non-float-processed) \\\n",
    "3 : Vehicle Windows (float-processed) \\\n",
    "4 : Vehicle Windows (non-float-processed) *none in this dataset* \\\n",
    "5 : Containers \\\n",
    "6 : Tableware \\\n",
    "7 : Headlamps \n",
    "\n",
    "Source: German,B.. (1987). Glass Identification. UCI Machine Learning Repository. https://doi.org/10.24432/C5WW2P.\n",
    "\n",
    "## About the Data\n",
    "The dataset from the UCI Machine Learning Repository, donated on August 31, 1987, by the USA Forensic Science Service, focuses on glass identification. It consists of 214 instances, each with 9 features, and is used for classification tasks in the fields of physics and chemistry.\n",
    "\n",
    "The dataset includes various types of glass, defined by their oxide content such as sodium (Na), magnesium (Mg), aluminum (Al), silicon (Si), potassium (K), calcium (Ca), barium (Ba), and iron (Fe). Each instance has a unique ID number and a measure of refractive index (RI). The types of glass are categorized into seven classes: 1) building windows float processed, 2) building windows non-float processed, 3) vehicle windows float processed, 4) vehicle windows non-float processed (not included in the dataset), 5) containers, 6) tableware, and 7) headlamps.\n",
    "\n",
    "Notably, the dataset does not contain data for category 4 (vehicle windows non-float processed)"
   ]
  },
  {
   "cell_type": "markdown",
   "id": "293aa342-6199-46fd-b4ba-5185d03f0cca",
   "metadata": {},
   "source": [
    "## Method"
   ]
  },
  {
   "cell_type": "code",
   "execution_count": 1,
   "id": "23d4ed93-dce8-4d43-9023-c6f73198dd39",
   "metadata": {
    "tags": []
   },
   "outputs": [],
   "source": [
    "#code or something"
   ]
  },
  {
   "cell_type": "markdown",
   "id": "54c1f07e-8080-49b3-b1d8-39ddb82b14ab",
   "metadata": {},
   "source": [
    "## Results"
   ]
  },
  {
   "cell_type": "code",
   "execution_count": 2,
   "id": "ce9b7a5c-098d-4b09-81e9-cbca14490f53",
   "metadata": {
    "tags": []
   },
   "outputs": [],
   "source": [
    "#more code or something"
   ]
  },
  {
   "cell_type": "markdown",
   "id": "a43abdc4-4ced-49cc-8c36-8e5121d06b82",
   "metadata": {},
   "source": [
    "## Discussion\n",
    "\n",
    "\n",
    "blah"
   ]
  },
  {
   "cell_type": "markdown",
   "id": "65db3d7e-182c-411f-b9eb-3f9741794d1a",
   "metadata": {},
   "source": [
    "## References\n",
    "\n",
    "reference"
   ]
  },
  {
   "cell_type": "code",
   "execution_count": null,
   "id": "c812ae3b-6b8d-420c-b777-de12aafdfe6d",
   "metadata": {},
   "outputs": [],
   "source": []
  }
 ],
 "metadata": {
  "kernelspec": {
   "display_name": "R",
   "language": "R",
   "name": "ir"
  },
  "language_info": {
   "codemirror_mode": "r",
   "file_extension": ".r",
   "mimetype": "text/x-r-source",
   "name": "R",
   "pygments_lexer": "r",
   "version": "4.2.2"
  },
  "widgets": {
   "application/vnd.jupyter.widget-state+json": {
    "state": {},
    "version_major": 2,
    "version_minor": 0
   }
  }
 },
 "nbformat": 4,
 "nbformat_minor": 5
}
